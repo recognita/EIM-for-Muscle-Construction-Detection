{
 "cells": [
  {
   "metadata": {
    "ExecuteTime": {
     "end_time": "2025-02-17T16:28:42.574144Z",
     "start_time": "2025-02-17T16:28:41.175222Z"
    }
   },
   "cell_type": "code",
   "source": [
    "import numpy as np\n",
    "import os \n",
    "import pandas as pd\n",
    "def get_signal_length(signal):\n",
    "      return len(signal)"
   ],
   "id": "701303a84e3efc71",
   "outputs": [],
   "execution_count": 1
  },
  {
   "metadata": {},
   "cell_type": "code",
   "outputs": [],
   "execution_count": null,
   "source": [
    "def classify_grasp(grasp_values):\n",
    "    grasp_sum = np.sum(grasp_values)\n",
    "    grasp_abs = np.sum(np.abs(grasp_values))\n",
    "    if (grasp_sum == grasp_abs) and grasp_abs != 0 :\n",
    "        return \"Positive movement\"\n",
    "    elif (grasp_sum == -grasp_abs) and grasp_abs != 0 :\n",
    "        return \"Negative movement\"\n",
    "    elif (grasp_abs == 0):\n",
    "        return \"No movement\"\n",
    "    else:\n",
    "        return None\n",
    "\n",
    "\n",
    "def classify_rotation(rotation_values):\n",
    "    rotation_sum = np.sum(rotation_values)\n",
    "    rotation_abs = np.sum(np.abs(rotation_values))\n",
    "    if (rotation_sum == rotation_abs) and rotation_abs != 0:\n",
    "        return \"Positive movement\"\n",
    "    elif (rotation_sum == -rotation_abs) and rotation_abs != 0:\n",
    "        return \"Negative movement\"\n",
    "    elif (rotation_abs == 0):\n",
    "        return \"No movement\"\n",
    "    else:\n",
    "        return None\n",
    "    \n",
    "def process_data(df):\n",
    "    df[\"window\"] = (df.index // 12).astype(int)\n",
    "    grouped = df.groupby(\"window\").agg({\n",
    "        \"Z1\": list,\n",
    "        \"Z2\": list,\n",
    "        \"grasp\": list,\n",
    "        \"rotation\": list,\n",
    "        \"abs_coef1\": list,\n",
    "        \"abs_coef2\": list\n",
    "    }).reset_index()\n",
    "\n",
    "    grouped[\"Z1_fft\"] = grouped[\"Z1\"].apply(lambda x: list(np.abs(np.fft.fft(x))))\n",
    "    grouped[\"Z2_fft\"] = grouped[\"Z2\"].apply(lambda x: list(np.abs(np.fft.fft(x))))\n",
    "\n",
    "    grouped[\"label_grasp\"] = grouped.apply(lambda row: classify_grasp(row[\"grasp\"]), axis=1)\n",
    "    grouped[\"label_rotation\"] = grouped.apply(lambda row: classify_rotation(row[\"rotation\"]), axis=1)\n",
    "\n",
    "    grouped = grouped.drop(columns=[\"grasp\", \"rotation\", \"abs_coef1\", \"abs_coef2\"])\n",
    "\n",
    "    return grouped\n",
    "\n",
    "file_list = pd.read_csv(\"Your_DataFrame.csv\", encoding='utf-8')  \n",
    "\n",
    "\n",
    "all_features = []\n",
    "\n",
    "for _, row in file_list.iterrows():\n",
    "    file_path = row[\"file_path\"]\n",
    "    \n",
    "    if not os.path.exists(file_path):\n",
    "        continue\n",
    "    \n",
    "    \n",
    "    df = pd.read_excel(file_path)\n",
    "    processed_df = process_data(df)\n",
    "    \n",
    "    processed_df[\"file_name\"] = os.path.basename(file_path)\n",
    "    all_features.append(processed_df)\n",
    "\n",
    "\n",
    "final_df = pd.concat(all_features, ignore_index=True)\n",
    "print(final_df.head())\n",
    "final_df.to_excel(\"Your_Final_Data_Frame\", index=False)"
   ],
   "id": "5aaa56c205bfdb59"
  }
 ],
 "metadata": {
  "kernelspec": {
   "display_name": "Python 3",
   "language": "python",
   "name": "python3"
  },
  "language_info": {
   "codemirror_mode": {
    "name": "ipython",
    "version": 2
   },
   "file_extension": ".py",
   "mimetype": "text/x-python",
   "name": "python",
   "nbconvert_exporter": "python",
   "pygments_lexer": "ipython2",
   "version": "2.7.6"
  }
 },
 "nbformat": 4,
 "nbformat_minor": 5
}
