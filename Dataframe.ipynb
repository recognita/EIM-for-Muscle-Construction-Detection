{
 "cells": [
  {
   "metadata": {
    "ExecuteTime": {
     "end_time": "2025-02-17T16:06:06.211911Z",
     "start_time": "2025-02-17T16:06:05.206882Z"
    }
   },
   "cell_type": "code",
   "source": [
    "import numpy as np\n",
    "from tqdm import tqdm\n",
    "import os\n",
    "import pandas as pd"
   ],
   "id": "37305367669a8c7b",
   "outputs": [],
   "execution_count": 1
  },
  {
   "metadata": {},
   "cell_type": "code",
   "outputs": [],
   "execution_count": null,
   "source": [
    "def create_data_frame(file_paths, save_folder):\n",
    "    df = pd.DataFrame(columns=['file_path', 'name','creation date','sampling rate', 'signal_duration', 'appropriate', 'mediana'])\n",
    "   \n",
    "    for index, file_path in tqdm(enumerate(file_paths), total=len(file_paths)):\n",
    "        try:\n",
    "            csv_data = pd.read_excel(file_path)\n",
    "            file_name = os.path.basename(file_path)\n",
    "            creation_date = file_name[:-7]\n",
    "            csv_data['Time'] = pd.to_numeric(csv_data['Time'], errors='coerce')\n",
    "            time = csv_data['Time']\n",
    "            mediana = csv_data['median_summ_abs_coef'] \n",
    "            mediana_1 = mediana [0]\n",
    "            sampling_rate = 1/(time[3]-time[4])\n",
    "            signal_duration = len(csv_data) / sampling_rate\n",
    "            if np.abs(sampling_rate - 125) < 1:\n",
    "                appropriate = True\n",
    "            else:\n",
    "                appropriate = False\n",
    "            df.loc[index] = [file_path, file_name, creation_date, sampling_rate, signal_duration, appropriate, mediana_1]\n",
    "        except Exception as e:\n",
    "            print(f\"Ошибка обработки файла {file_path}: {e}\")\n",
    "            df.loc[index] = [file_path, file_name if 'file_name' in locals() else 'Ошибка', \n",
    "                             'Ошибка', 'Ошибка', False]\n",
    "    save_path = os.path.join(save_folder, 'Your_Data_Frame')\n",
    "    df.to_csv(save_path, index=False, encoding='utf-8')\n",
    "    print(f\"DataFrame создан и сохранён в {save_path}\")\n",
    "    \n",
    "    return df\n",
    "\n",
    "folder_path = 'your_folder'\n",
    "save_folder = 'your_folder'\n",
    "file_paths = [os.path.join(folder_path, f) for f in os.listdir(folder_path) if f.endswith('.xlsx')]\n",
    "df = create_data_frame(file_paths, save_folder)"
   ],
   "id": "86180d08e289bddd"
  }
 ],
 "metadata": {
  "kernelspec": {
   "display_name": "Python 3",
   "language": "python",
   "name": "python3"
  },
  "language_info": {
   "codemirror_mode": {
    "name": "ipython",
    "version": 2
   },
   "file_extension": ".py",
   "mimetype": "text/x-python",
   "name": "python",
   "nbconvert_exporter": "python",
   "pygments_lexer": "ipython2",
   "version": "2.7.6"
  }
 },
 "nbformat": 4,
 "nbformat_minor": 5
}
